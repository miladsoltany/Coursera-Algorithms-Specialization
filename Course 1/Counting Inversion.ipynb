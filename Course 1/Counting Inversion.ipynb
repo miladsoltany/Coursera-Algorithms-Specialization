{
 "cells": [
  {
   "cell_type": "code",
   "execution_count": 1,
   "metadata": {},
   "outputs": [],
   "source": [
    "import numpy as np\n"
   ]
  },
  {
   "cell_type": "code",
   "execution_count": 2,
   "metadata": {},
   "outputs": [],
   "source": [
    "from tqdm import tqdm"
   ]
  },
  {
   "cell_type": "code",
   "execution_count": 3,
   "metadata": {},
   "outputs": [],
   "source": [
    "def brute(A):\n",
    "    num_inv = 0\n",
    "    for i in tqdm(range(len(A))):\n",
    "        for j in range(i,len(A)):\n",
    "            if A[j]<A[i]:\n",
    "                num_inv += 1\n",
    "#                 print(f'i = {i} , j ={j}')\n",
    "    return(num_inv)"
   ]
  },
  {
   "cell_type": "code",
   "execution_count": null,
   "metadata": {},
   "outputs": [],
   "source": []
  },
  {
   "cell_type": "code",
   "execution_count": 4,
   "metadata": {},
   "outputs": [],
   "source": [
    "def merge(left,right):\n",
    "    '''\n",
    "    Merges two sorted arrays\n",
    "    \n",
    "    Parameters\n",
    "    -----------\n",
    "    left : the left_side array or list\n",
    "    right : the right_side array or list\n",
    "    '''\n",
    "    \n",
    "    c = [] #The output\n",
    "    len_left = len(left)\n",
    "    len_right = len(right)\n",
    "    \n",
    "    i = 0 #index for left\n",
    "    j = 0 #index for right\n",
    "    \n",
    "    while i<len_left and j<len_right:\n",
    "        if left[i] < right[j]:\n",
    "            c.append(left[i])\n",
    "            i = i+1\n",
    "        else:\n",
    "            c.append(right[j])\n",
    "            j = j+1\n",
    "    c.extend(left[i:])\n",
    "    c.extend(right[j:])\n",
    "    return c\n",
    "        \n",
    "    \n",
    "def merge_sort(a):\n",
    "    \n",
    "    '''\n",
    "    Sorts an array or list using merge sort algorithm.\n",
    "    This algorithm has big O notation of nlog(n)\n",
    "    '''\n",
    "    \n",
    "    if len(a)>2:\n",
    "        length = len(a)\n",
    "        left_part = a[:length//2]\n",
    "        right_part = a[length//2:]\n",
    "        \n",
    "        left_part = merge_sort(left_part)\n",
    "        right_part = merge_sort(right_part)\n",
    "        \n",
    "        sorted_a = merge(left_part,right_part)\n",
    "        \n",
    "        return sorted_a\n",
    "        \n",
    "    elif len(a)==1:\n",
    "        return a\n",
    "    \n",
    "    elif len(a)==2:\n",
    "        if a[0]>a[1]:\n",
    "            a[1],a[0] = a[0],a[1]\n",
    "        return a"
   ]
  },
  {
   "cell_type": "code",
   "execution_count": null,
   "metadata": {},
   "outputs": [],
   "source": []
  },
  {
   "cell_type": "code",
   "execution_count": null,
   "metadata": {},
   "outputs": [],
   "source": []
  },
  {
   "cell_type": "code",
   "execution_count": 5,
   "metadata": {},
   "outputs": [],
   "source": [
    "def merge_inversion_count(A):\n",
    "    n = len(A)\n",
    "    if n == 1:\n",
    "        return 0\n",
    "    else:\n",
    "        left = (A[:n//2])\n",
    "        right = (A[n//2:])\n",
    "\n",
    "        a = merge_inversion_count(left)\n",
    "        b = merge_inversion_count(right)\n",
    "        c = split_inversions(merge_sort(left),merge_sort(right))\n",
    "        \n",
    "        return (a+b+c)\n",
    "\n",
    "def split_inversions(left,right):\n",
    "    i,j,c = 0,0,0\n",
    "    \n",
    "    while i<len(left) and j<len(right):\n",
    "        if left[i]<right[j]:\n",
    "            i += 1\n",
    "        else:\n",
    "            j +=1\n",
    "            c += len(left) - i\n",
    "    return c"
   ]
  },
  {
   "cell_type": "code",
   "execution_count": 26,
   "metadata": {},
   "outputs": [],
   "source": [
    "f = open('2ndWeek.txt','r')\n",
    "text = f.read()\n",
    "text = text.rstrip().split('\\n')\n",
    "text = list(map(int,text))"
   ]
  },
  {
   "cell_type": "code",
   "execution_count": 27,
   "metadata": {},
   "outputs": [
    {
     "data": {
      "text/plain": [
       "100000"
      ]
     },
     "execution_count": 27,
     "metadata": {},
     "output_type": "execute_result"
    }
   ],
   "source": [
    "len(text)"
   ]
  },
  {
   "cell_type": "code",
   "execution_count": 30,
   "metadata": {},
   "outputs": [
    {
     "name": "stdout",
     "output_type": "stream",
     "text": [
      "Wall time: 7.94 s\n"
     ]
    },
    {
     "data": {
      "text/plain": [
       "2407905288"
      ]
     },
     "execution_count": 30,
     "metadata": {},
     "output_type": "execute_result"
    }
   ],
   "source": [
    "%%time\n",
    "merge_inversion_count(text)"
   ]
  },
  {
   "cell_type": "code",
   "execution_count": null,
   "metadata": {},
   "outputs": [
    {
     "name": "stderr",
     "output_type": "stream",
     "text": [
      " 12%|████████▋                                                                  | 11521/100000 [02:50<20:00, 73.71it/s]"
     ]
    }
   ],
   "source": [
    "brute(text)"
   ]
  },
  {
   "cell_type": "markdown",
   "metadata": {},
   "source": [
    "As you can see it's taking ages for the bruteforce method to take off! I had to cancel it"
   ]
  },
  {
   "cell_type": "code",
   "execution_count": null,
   "metadata": {},
   "outputs": [],
   "source": []
  }
 ],
 "metadata": {
  "kernelspec": {
   "display_name": "Python 3",
   "language": "python",
   "name": "python3"
  },
  "language_info": {
   "codemirror_mode": {
    "name": "ipython",
    "version": 3
   },
   "file_extension": ".py",
   "mimetype": "text/x-python",
   "name": "python",
   "nbconvert_exporter": "python",
   "pygments_lexer": "ipython3",
   "version": "3.7.0"
  }
 },
 "nbformat": 4,
 "nbformat_minor": 2
}
