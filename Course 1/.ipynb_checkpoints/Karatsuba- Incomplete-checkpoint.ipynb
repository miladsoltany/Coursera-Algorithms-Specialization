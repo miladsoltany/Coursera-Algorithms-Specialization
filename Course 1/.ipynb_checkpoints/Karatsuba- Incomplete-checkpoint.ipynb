{
 "cells": [
  {
   "cell_type": "code",
   "execution_count": 10,
   "metadata": {},
   "outputs": [],
   "source": [
    "def karat(x,y):\n",
    "    '''\n",
    "    Multiplies a times b\n",
    "    Assumes len(a)==len(b)==power of 2\n",
    "    '''\n",
    "    n = len(str(x))\n",
    "    \n",
    "    if n>1 : \n",
    "        a,b = int(str(x)[:n//2]), int(str(x)[n//2:])\n",
    "        c,d = int(str(y)[:n//2]), int(str(y)[n//2:])\n",
    "        \n",
    "        p = a+b\n",
    "        q = c+d\n",
    "        \n",
    "        ac = karat(a,c)\n",
    "        bd = karat(b,d)\n",
    "        pq = karat(p,q)\n",
    "        \n",
    "        adbc = pq - ac - bd\n",
    "        \n",
    "        return (10**n)*ac + (10**(n/2))*adbc + bd\n",
    "        \n",
    "        \n",
    "    else:\n",
    "        return x*y\n",
    "    "
   ]
  },
  {
   "cell_type": "code",
   "execution_count": 14,
   "metadata": {},
   "outputs": [
    {
     "data": {
      "text/plain": [
       "6592652.0"
      ]
     },
     "execution_count": 14,
     "metadata": {},
     "output_type": "execute_result"
    }
   ],
   "source": [
    "karat(1234,5678)"
   ]
  },
  {
   "cell_type": "code",
   "execution_count": 15,
   "metadata": {},
   "outputs": [
    {
     "data": {
      "text/plain": [
       "7006652"
      ]
     },
     "execution_count": 15,
     "metadata": {},
     "output_type": "execute_result"
    }
   ],
   "source": [
    "1234*5678"
   ]
  },
  {
   "cell_type": "code",
   "execution_count": null,
   "metadata": {},
   "outputs": [],
   "source": []
  }
 ],
 "metadata": {
  "kernelspec": {
   "display_name": "Python 3",
   "language": "python",
   "name": "python3"
  },
  "language_info": {
   "codemirror_mode": {
    "name": "ipython",
    "version": 3
   },
   "file_extension": ".py",
   "mimetype": "text/x-python",
   "name": "python",
   "nbconvert_exporter": "python",
   "pygments_lexer": "ipython3",
   "version": "3.7.0"
  }
 },
 "nbformat": 4,
 "nbformat_minor": 2
}
