{
 "cells": [
  {
   "cell_type": "code",
   "execution_count": 78,
   "metadata": {},
   "outputs": [],
   "source": [
    "def merge(left,right):\n",
    "    '''\n",
    "    Merges two sorted arrays\n",
    "    \n",
    "    Parameters\n",
    "    -----------------\n",
    "    left : the left_side array or list\n",
    "    right : the right_side array or list\n",
    "    '''\n",
    "    \n",
    "    c = [] #The output\n",
    "    len_left = len(left)\n",
    "    len_right = len(right)\n",
    "    \n",
    "    i = 0 #index for left\n",
    "    j = 0 #index for right\n",
    "    \n",
    "    while i<len_left and j<len_right:\n",
    "        if left[i] < right[j]:\n",
    "            c.append(left[i])\n",
    "            i = i+1\n",
    "        else:\n",
    "            c.append(right[j])\n",
    "            j = j+1\n",
    "    c.extend(left[i:])\n",
    "    c.extend(right[j:])\n",
    "    return c\n",
    "        "
   ]
  },
  {
   "cell_type": "code",
   "execution_count": 80,
   "metadata": {},
   "outputs": [],
   "source": [
    "def merge_sort(a):\n",
    "    \n",
    "    '''\n",
    "    Sorts an array or list using merge sort algorithm.\n",
    "    This algorithm has big O notation of nlog(n)\n",
    "    '''\n",
    "    \n",
    "    if len(a)>2:\n",
    "        length = len(a)\n",
    "        left_part = a[:length//2]\n",
    "        right_part = a[length//2:]\n",
    "        \n",
    "        left_part = merge_sort(left_part)\n",
    "        right_part = merge_sort(right_part)\n",
    "        \n",
    "        sorted_a = merge(left_part,right_part)\n",
    "        \n",
    "        return sorted_a\n",
    "        \n",
    "    elif len(a)==1:\n",
    "        return a\n",
    "    \n",
    "    elif len(a)==2:\n",
    "        if a[0]>a[1]:\n",
    "            a[1],a[0] = a[0],a[1]\n",
    "        return a\n",
    "        \n",
    "        "
   ]
  },
  {
   "cell_type": "code",
   "execution_count": 47,
   "metadata": {},
   "outputs": [],
   "source": [
    "import numpy as np"
   ]
  },
  {
   "cell_type": "code",
   "execution_count": 60,
   "metadata": {},
   "outputs": [],
   "source": [
    "l = np.random.randint(0,10**5,10**4)"
   ]
  },
  {
   "cell_type": "code",
   "execution_count": 61,
   "metadata": {},
   "outputs": [
    {
     "data": {
      "text/plain": [
       "array([62395,  7507, 98229, ..., 70372, 58870, 48407])"
      ]
     },
     "execution_count": 61,
     "metadata": {},
     "output_type": "execute_result"
    }
   ],
   "source": [
    "l"
   ]
  },
  {
   "cell_type": "code",
   "execution_count": 62,
   "metadata": {},
   "outputs": [
    {
     "name": "stdout",
     "output_type": "stream",
     "text": [
      "75.1 ms ± 2.69 ms per loop (mean ± std. dev. of 7 runs, 10 loops each)\n"
     ]
    }
   ],
   "source": [
    "%%timeit\n",
    "merge_sort(l)"
   ]
  },
  {
   "cell_type": "code",
   "execution_count": 63,
   "metadata": {},
   "outputs": [
    {
     "name": "stdout",
     "output_type": "stream",
     "text": [
      "482 µs ± 5.19 µs per loop (mean ± std. dev. of 7 runs, 1000 loops each)\n"
     ]
    }
   ],
   "source": [
    "%%timeit\n",
    "np.sort(l)"
   ]
  }
 ],
 "metadata": {
  "kernelspec": {
   "display_name": "Python 3",
   "language": "python",
   "name": "python3"
  },
  "language_info": {
   "codemirror_mode": {
    "name": "ipython",
    "version": 3
   },
   "file_extension": ".py",
   "mimetype": "text/x-python",
   "name": "python",
   "nbconvert_exporter": "python",
   "pygments_lexer": "ipython3",
   "version": "3.7.0"
  }
 },
 "nbformat": 4,
 "nbformat_minor": 2
}
